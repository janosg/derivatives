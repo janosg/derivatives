{
 "cells": [
  {
   "cell_type": "code",
   "execution_count": 8,
   "metadata": {},
   "outputs": [],
   "source": [
    "import itertools\n",
    "import numpy as np\n",
    "\n",
    "from scipy.sparse import csr_matrix\n",
    "\n",
    "from utilities import chol_params_to_lower_triangular_matrix\n",
    "from utilities import cov_matrix_to_sdcorr_params\n",
    "from utilities import number_of_triangular_elements_to_dimension\n",
    "from utilities import dimension_to_number_of_triangular_elements\n",
    "from utilities import cov_params_to_matrix\n",
    "\n",
    "from utilities import commutation_matrix\n",
    "from utilities import elimination_matrix\n",
    "from utilities import duplication_matrix\n",
    "\n",
    "from estimagic.optimization.utilities import robust_cholesky\n",
    "\n",
    "from jax import jacfwd\n",
    "from kernel_transformations_jax import covariance_to_internal as covariance_to_internal_jax \n",
    "from kernel_transformations_jax import sdcorr_to_internal as sdcorr_to_internal_jax\n",
    "from kernel_transformations_jax import probability_to_internal as probability_to_internal_jax\n",
    "\n",
    "from numpy.testing import assert_array_almost_equal"
   ]
  },
  {
   "cell_type": "markdown",
   "metadata": {},
   "source": [
    "## Derivative of ``covariance_to_internal``"
   ]
  },
  {
   "cell_type": "code",
   "execution_count": 219,
   "metadata": {},
   "outputs": [],
   "source": [
    "def derivative_covariance_to_internal(external_values):\n",
    "    cov = cov_params_to_matrix(external_values)\n",
    "    chol = robust_cholesky(cov)\n",
    "    \n",
    "    dim = len(chol)\n",
    "    \n",
    "    K = commutation_matrix(dim)\n",
    "    \n",
    "    d0_a = np.eye(dim ** 2) + K\n",
    "    d0_b = np.kron(chol, np.eye(dim))\n",
    "    d0 = d0_a @ d0_b\n",
    "    \n",
    "    L = elimination_matrix(dim)\n",
    "    D = duplication_matrix(dim, L)\n",
    "    \n",
    "    d1 = L @ d0 @ D\n",
    "    \n",
    "    dfin = np.linalg.inv(d1)\n",
    "    \n",
    "    return dfin"
   ]
  },
  {
   "cell_type": "markdown",
   "metadata": {},
   "source": [
    "## Example / Testing"
   ]
  },
  {
   "cell_type": "code",
   "execution_count": 6,
   "metadata": {},
   "outputs": [],
   "source": [
    "def get_external_random(dim, seed=0):\n",
    "    np.random.seed(seed)\n",
    "    X = np.random.randn(dim, 1000)\n",
    "    cov = np.cov(X)\n",
    "    external = cov[np.tril_indices(dim)]\n",
    "    return external"
   ]
  },
  {
   "cell_type": "code",
   "execution_count": 221,
   "metadata": {},
   "outputs": [],
   "source": [
    "J = jacfwd(covariance_to_internal_jax)"
   ]
  },
  {
   "cell_type": "code",
   "execution_count": 223,
   "metadata": {},
   "outputs": [],
   "source": [
    "for dim in range(10, 50):\n",
    "    external = get_external_random(dim)\n",
    "    jax_deriv = J(external)\n",
    "    my_deriv = derivative_covariance_to_internal(external)\n",
    "    assert_array_almost_equal(jax_deriv, my_deriv)"
   ]
  },
  {
   "cell_type": "markdown",
   "metadata": {},
   "source": [
    "## Timeit"
   ]
  },
  {
   "cell_type": "code",
   "execution_count": 225,
   "metadata": {},
   "outputs": [],
   "source": [
    "external = get_external_random(20)"
   ]
  },
  {
   "cell_type": "code",
   "execution_count": 226,
   "metadata": {},
   "outputs": [
    {
     "name": "stdout",
     "output_type": "stream",
     "text": [
      "60.3 ms ± 2.65 ms per loop (mean ± std. dev. of 7 runs, 10 loops each)\n"
     ]
    }
   ],
   "source": [
    "%timeit J(external)"
   ]
  },
  {
   "cell_type": "code",
   "execution_count": 227,
   "metadata": {},
   "outputs": [
    {
     "name": "stdout",
     "output_type": "stream",
     "text": [
      "20.6 ms ± 555 µs per loop (mean ± std. dev. of 7 runs, 10 loops each)\n"
     ]
    }
   ],
   "source": [
    "%timeit derivative_covariance_to_internal(external)"
   ]
  },
  {
   "cell_type": "markdown",
   "metadata": {},
   "source": [
    "## Derivative of ``sdcorr_to_internal``"
   ]
  },
  {
   "cell_type": "code",
   "execution_count": 1,
   "metadata": {},
   "outputs": [],
   "source": [
    "from derivatives import derivative_sdcorr_from_internal\n",
    "from derivatives import derivative_sdcorr_to_internal"
   ]
  },
  {
   "cell_type": "code",
   "execution_count": 2,
   "metadata": {},
   "outputs": [],
   "source": [
    "from kernel_transformations_jax import sdcorr_to_internal"
   ]
  },
  {
   "cell_type": "code",
   "execution_count": 4,
   "metadata": {},
   "outputs": [],
   "source": [
    "from jax import jacfwd"
   ]
  },
  {
   "cell_type": "code",
   "execution_count": 5,
   "metadata": {},
   "outputs": [],
   "source": [
    "J = jacfwd(sdcorr_to_internal)"
   ]
  },
  {
   "cell_type": "code",
   "execution_count": 9,
   "metadata": {},
   "outputs": [],
   "source": [
    "external = get_external_random(2)"
   ]
  },
  {
   "cell_type": "code",
   "execution_count": 15,
   "metadata": {},
   "outputs": [],
   "source": [
    "from utilities import sdcorr_params_to_matrix"
   ]
  },
  {
   "cell_type": "code",
   "execution_count": 16,
   "metadata": {},
   "outputs": [],
   "source": [
    "cov = sdcorr_params_to_matrix(external)"
   ]
  },
  {
   "cell_type": "code",
   "execution_count": 19,
   "metadata": {},
   "outputs": [
    {
     "name": "stdout",
     "output_type": "stream",
     "text": [
      "19\n"
     ]
    }
   ],
   "source": [
    "bad = []\n",
    "for dim in range(10, 20):\n",
    "    try:\n",
    "        external = get_external_random(dim)\n",
    "        jax_deriv = J(external)\n",
    "        deriv = derivative_sdcorr_to_internal(external)\n",
    "        assert_array_almost_equal(deriv, jax_deriv)\n",
    "    except Exception:\n",
    "        bad.append(dim)\n",
    "        \n",
    "print(dim)"
   ]
  },
  {
   "cell_type": "code",
   "execution_count": null,
   "metadata": {},
   "outputs": [],
   "source": []
  },
  {
   "cell_type": "code",
   "execution_count": null,
   "metadata": {},
   "outputs": [],
   "source": []
  },
  {
   "cell_type": "code",
   "execution_count": null,
   "metadata": {},
   "outputs": [],
   "source": []
  },
  {
   "cell_type": "code",
   "execution_count": null,
   "metadata": {},
   "outputs": [],
   "source": []
  },
  {
   "cell_type": "code",
   "execution_count": 3,
   "metadata": {},
   "outputs": [],
   "source": [
    "def transformation_matrix(dim):\n",
    "    n = dimension_to_number_of_triangular_elements(dim)\n",
    "    M = np.zeros((dim, dim)) + np.nan\n",
    "    M[np.diag_indices(dim)] = np.arange(dim, dtype=int)\n",
    "    M[np.tril_indices(dim, k=-1)] = np.arange(dim, n, dtype=int)\n",
    "    \n",
    "    m = M.ravel('F')\n",
    "    num_na = np.count_nonzero(np.isnan(m))\n",
    "    indices = m.argsort()[:-num_na]\n",
    "\n",
    "    rows = [unit_vector_or_zeros(i, dim ** 2) for i in indices]\n",
    "    \n",
    "    transformer = np.row_stack(rows)\n",
    "    return transformer"
   ]
  },
  {
   "cell_type": "code",
   "execution_count": 342,
   "metadata": {},
   "outputs": [],
   "source": [
    "cov = np.cov(np.random.randn(10, 4))"
   ]
  },
  {
   "cell_type": "code",
   "execution_count": 346,
   "metadata": {},
   "outputs": [],
   "source": [
    "sds, corr = cov_to_sds_and_corr(cov)\n",
    "\n",
    "corr[np.diag_indices(len(cov))] = sds\n",
    "\n",
    "vec = corr.ravel('F')"
   ]
  },
  {
   "cell_type": "code",
   "execution_count": 345,
   "metadata": {},
   "outputs": [],
   "source": [
    "external = cov_matrix_to_sdcorr_params(cov)"
   ]
  },
  {
   "cell_type": "code",
   "execution_count": 349,
   "metadata": {},
   "outputs": [
    {
     "data": {
      "text/plain": [
       "True"
      ]
     },
     "execution_count": 349,
     "metadata": {},
     "output_type": "execute_result"
    }
   ],
   "source": [
    "(transformation_matrix(len(cov)) @ vec == external).all()"
   ]
  },
  {
   "cell_type": "markdown",
   "metadata": {},
   "source": [
    "## Examples / Testing"
   ]
  },
  {
   "cell_type": "markdown",
   "metadata": {},
   "source": [
    "## Timeit"
   ]
  },
  {
   "cell_type": "markdown",
   "metadata": {},
   "source": [
    "## Derivative of ``probability_to_internal``\n",
    "\n",
    "Let $f: \\mathbb{R}^m \\to \\mathbb{R}^m, x \\mapsto \\frac{1}{x_m} x$. It is easily seen that\n",
    "\n",
    "$$\n",
    "J(f)(x) = \\frac{1}{x_m} \\sum_{k=1}^{m-1} e_k e_k^\\top - \n",
    "\\frac{1}{x_m^2} \\left [0, \\dots, 0, \\left ( \\begin{matrix} x_{1:m-1} \\\\ 0 \\end{matrix} \\right ) \\right ]\n",
    "$$\n",
    "where $e_k$ denotes the $m$ dimensional unit vector."
   ]
  },
  {
   "cell_type": "code",
   "execution_count": 229,
   "metadata": {},
   "outputs": [],
   "source": [
    "def derivative_probability_to_internal(external_values):\n",
    "    dim = len(external_values)\n",
    "    \n",
    "    deriv = np.eye(dim) / external_values[-1]\n",
    "    deriv[:, -1] -= external_values / (external_values[-1] ** 2)\n",
    "    deriv[-1, -1] = 0\n",
    "    \n",
    "    return deriv"
   ]
  },
  {
   "cell_type": "markdown",
   "metadata": {},
   "source": [
    "## Examples / Testing"
   ]
  },
  {
   "cell_type": "code",
   "execution_count": 230,
   "metadata": {},
   "outputs": [],
   "source": [
    "J = jacfwd(probability_to_internal_jax)"
   ]
  },
  {
   "cell_type": "code",
   "execution_count": 231,
   "metadata": {},
   "outputs": [],
   "source": [
    "for dim in range(10, 50):\n",
    "    external = get_external_random(dim)\n",
    "    jax_deriv = J(external)\n",
    "    my_deriv = derivative_probability_to_internal(external)\n",
    "    assert_array_almost_equal(jax_deriv, my_deriv)"
   ]
  },
  {
   "cell_type": "markdown",
   "metadata": {},
   "source": [
    "## Timeit"
   ]
  },
  {
   "cell_type": "code",
   "execution_count": 13,
   "metadata": {},
   "outputs": [
    {
     "name": "stdout",
     "output_type": "stream",
     "text": [
      "4.6 ms ± 121 µs per loop (mean ± std. dev. of 7 runs, 100 loops each)\n"
     ]
    }
   ],
   "source": [
    "%timeit J(external)"
   ]
  },
  {
   "cell_type": "code",
   "execution_count": 14,
   "metadata": {},
   "outputs": [
    {
     "name": "stdout",
     "output_type": "stream",
     "text": [
      "17.9 µs ± 98.5 ns per loop (mean ± std. dev. of 7 runs, 100000 loops each)\n"
     ]
    }
   ],
   "source": [
    "%timeit derivative_probability_to_internal(external)"
   ]
  }
 ],
 "metadata": {
  "kernelspec": {
   "display_name": "Python 3",
   "language": "python",
   "name": "python3"
  },
  "language_info": {
   "codemirror_mode": {
    "name": "ipython",
    "version": 3
   },
   "file_extension": ".py",
   "mimetype": "text/x-python",
   "name": "python",
   "nbconvert_exporter": "python",
   "pygments_lexer": "ipython3",
   "version": "3.7.6"
  }
 },
 "nbformat": 4,
 "nbformat_minor": 2
}
