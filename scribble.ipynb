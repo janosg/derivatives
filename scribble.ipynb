{
 "cells": [
  {
   "cell_type": "code",
   "execution_count": 169,
   "metadata": {},
   "outputs": [],
   "source": [
    "import itertools\n",
    "import numpy as np\n",
    "from numba import njit\n",
    "\n",
    "from utilities import chol_params_to_lower_triangular_matrix\n",
    "from utilities import cov_matrix_to_sdcorr_params\n",
    "\n",
    "from jax import jacfwd\n",
    "from kernel_transformations_jax import covariance_from_internal as covariance_from_internal_jax\n",
    "from kernel_transformations_jax import sdcorr_from_internal as sdcorr_from_internal_jax\n",
    "from kernel_transformations_jax import probability_from_internal as probability_from_internal_jax\n",
    "\n",
    "from numpy.testing import assert_array_almost_equal"
   ]
  },
  {
   "cell_type": "markdown",
   "metadata": {},
   "source": [
    "$$\n",
    "\\tilde{\\text{vec}}\n",
    "\\left (\n",
    "\\begin{matrix}\n",
    "(0,0)  &        &        &        \\\\\n",
    "(1, 0) & (1,1)  &        &        \\\\\n",
    "(2, 0) & (2, 1) & (2, 2) &        \\\\\n",
    "(3, 0) & (3, 1) & (3, 2) & (3, 3) \\\\\n",
    "\\end{matrix}\n",
    "\\right ) =:\n",
    "\\tilde{\\text{vec}}(L) = \n",
    "\\big ( (0,0), (1,0), (1,1), (2,0), (2, 1), (2, 2), (3, 0), (3, 1), (3, 2), (3, 3) \\big )^\\top := v\n",
    "$$\n",
    "\n",
    "The following two functions allow us to move between these two representation of a (lower-triangular) matrix in a bijective fashion."
   ]
  },
  {
   "cell_type": "code",
   "execution_count": 2,
   "metadata": {},
   "outputs": [],
   "source": [
    "MAX_VALUE = 500\n",
    "\n",
    "SEQUENCE_I = list(itertools.chain.from_iterable(itertools.repeat(i-1, i) for i in range(1, MAX_VALUE)))\n",
    "SEQUENCE_J = list(itertools.chain.from_iterable(range(i-1) for i in range(1, MAX_VALUE)))\n",
    "\n",
    "SEQUENCE_I = np.array(SEQUENCE_I)\n",
    "SEQUENCE_J = np.array(SEQUENCE_J)\n",
    "\n",
    "@njit\n",
    "def _vectorized_index_to_matrix_index(index):\n",
    "    return np.array([SEQUENCE_I[index], SEQUENCE_J[index]])\n",
    "\n",
    "@njit\n",
    "def _matrix_index_to_vectorized_index(i, j):\n",
    "    return int(i * (i + 1) / 2) +  j\n",
    "\n",
    "for k in range(100):\n",
    "    assert _matrix_index_to_vectorized_index(*_vectorized_index_to_matrix_index(k)) == k"
   ]
  },
  {
   "cell_type": "code",
   "execution_count": null,
   "metadata": {},
   "outputs": [],
   "source": []
  },
  {
   "cell_type": "markdown",
   "metadata": {},
   "source": [
    "## Derivative of ``covariance_from_internal``"
   ]
  },
  {
   "cell_type": "code",
   "execution_count": 66,
   "metadata": {},
   "outputs": [],
   "source": [
    "@njit\n",
    "def derivative_covariance_from_internal(internal_values):\n",
    "    dim = len(internal_values)\n",
    "    \n",
    "    deriv = np.zeros((dim, dim))\n",
    "    \n",
    "    for i in range(dim):\n",
    "        outer_index = _vectorized_index_to_matrix_index(i)\n",
    "        \n",
    "        a = outer_index[0]\n",
    "        b = outer_index[1]\n",
    "        min_j = _matrix_index_to_vectorized_index(a, b)\n",
    "        for j in range(min_j, dim):\n",
    "            inner_index = _vectorized_index_to_matrix_index(j)\n",
    "            n = inner_index[0]\n",
    "            m = inner_index[1]\n",
    "            \n",
    "            deriv[i, j] = _derivative_covariance_from_internal_inner(n, m, a, b, internal_values)\n",
    "                \n",
    "    return deriv.T"
   ]
  },
  {
   "cell_type": "code",
   "execution_count": 67,
   "metadata": {},
   "outputs": [],
   "source": [
    "@njit\n",
    "def _derivative_covariance_from_internal_inner(n, m, a, b, internal_values):\n",
    "    if b > n:\n",
    "        deriv = 0\n",
    "    elif a == n and n == m:\n",
    "        deriv = 2 * internal_values[_matrix_index_to_vectorized_index(n, b)]\n",
    "    elif a == n and n != m:\n",
    "        deriv = internal_values[_matrix_index_to_vectorized_index(m, b)]\n",
    "    elif a == m and n != m:\n",
    "        deriv = internal_values[_matrix_index_to_vectorized_index(n, b)]\n",
    "    else:\n",
    "        deriv = 0\n",
    "        \n",
    "    return deriv"
   ]
  },
  {
   "cell_type": "code",
   "execution_count": null,
   "metadata": {},
   "outputs": [],
   "source": []
  },
  {
   "cell_type": "markdown",
   "metadata": {},
   "source": [
    "## Example / Testing"
   ]
  },
  {
   "cell_type": "code",
   "execution_count": 72,
   "metadata": {},
   "outputs": [],
   "source": [
    "J = jacfwd(covariance_from_internal_jax)"
   ]
  },
  {
   "cell_type": "code",
   "execution_count": 76,
   "metadata": {},
   "outputs": [],
   "source": [
    "def get_random_internal(dim, seed=0):\n",
    "    np.random.seed(seed)\n",
    "    chol = np.tril(np.random.randn(dim, dim))\n",
    "    internal = chol[np.tril_indices(len(chol))]\n",
    "    return internal"
   ]
  },
  {
   "cell_type": "code",
   "execution_count": 77,
   "metadata": {},
   "outputs": [],
   "source": [
    "for dim in range(10, 100):\n",
    "    internal = get_random_internal(dim)\n",
    "\n",
    "    jax_deriv = J(internal)\n",
    "\n",
    "    my_deriv = derivative_covariance_from_internal(internal)\n",
    "\n",
    "    assert_array_almost_equal(jax_deriv, my_deriv)"
   ]
  },
  {
   "cell_type": "markdown",
   "metadata": {},
   "source": [
    "## Timeit"
   ]
  },
  {
   "cell_type": "code",
   "execution_count": 78,
   "metadata": {},
   "outputs": [],
   "source": [
    "internal = get_random_internal(100)"
   ]
  },
  {
   "cell_type": "code",
   "execution_count": 79,
   "metadata": {},
   "outputs": [
    {
     "name": "stdout",
     "output_type": "stream",
     "text": [
      "1.89 s ± 75.6 ms per loop (mean ± std. dev. of 7 runs, 10 loops each)\n"
     ]
    }
   ],
   "source": [
    "%timeit J(internal)"
   ]
  },
  {
   "cell_type": "code",
   "execution_count": 80,
   "metadata": {},
   "outputs": [
    {
     "name": "stdout",
     "output_type": "stream",
     "text": [
      "993 ms ± 145 ms per loop (mean ± std. dev. of 7 runs, 1 loop each)\n"
     ]
    }
   ],
   "source": [
    "%timeit derivative_covariance_from_internal(internal)"
   ]
  },
  {
   "cell_type": "code",
   "execution_count": null,
   "metadata": {},
   "outputs": [],
   "source": []
  },
  {
   "cell_type": "code",
   "execution_count": null,
   "metadata": {},
   "outputs": [],
   "source": []
  },
  {
   "cell_type": "markdown",
   "metadata": {},
   "source": [
    "# Derivative of ``sdcorr_from_internal``"
   ]
  },
  {
   "cell_type": "code",
   "execution_count": 128,
   "metadata": {},
   "outputs": [],
   "source": [
    "def number_of_triangular_elements_to_dimension(num):\n",
    "    \"\"\"Calculate the dimension of a square matrix from number of triangular elements.\n",
    "    Args:\n",
    "        num (int): The number of upper or lower triangular elements in the matrix.\n",
    "    Examples:\n",
    "        >>> number_of_triangular_elements_to_dimension(6)\n",
    "        3\n",
    "        >>> number_of_triangular_elements_to_dimension(10)\n",
    "        4\n",
    "    \"\"\"\n",
    "    return int(np.sqrt(8 * num + 1) / 2 - 0.5)"
   ]
  },
  {
   "cell_type": "code",
   "execution_count": 129,
   "metadata": {},
   "outputs": [],
   "source": [
    "def chol_params_to_lower_triangular_matrix(params):\n",
    "    dim = number_of_triangular_elements_to_dimension(len(params))\n",
    "    mat = np.zeros((dim, dim))\n",
    "    mat[np.tril_indices(dim)] = params\n",
    "    return mat"
   ]
  },
  {
   "cell_type": "code",
   "execution_count": null,
   "metadata": {},
   "outputs": [],
   "source": []
  },
  {
   "cell_type": "code",
   "execution_count": 156,
   "metadata": {},
   "outputs": [],
   "source": [
    "def derivative_sdcorr_from_internal(internal_values):\n",
    "    dim = len(internal_values)\n",
    "    chol = chol_params_to_lower_triangular_matrix(internal_values)\n",
    "    deriv = _derivative_sdcorr_from_internal_njit(dim, chol)\n",
    "    return deriv"
   ]
  },
  {
   "cell_type": "code",
   "execution_count": 155,
   "metadata": {},
   "outputs": [],
   "source": [
    "@njit\n",
    "def _derivative_sdcorr_from_internal_njit(dim, chol):\n",
    "    deriv = np.zeros((dim, dim))\n",
    "    \n",
    "    for i in range(dim):\n",
    "        outer_index = _vectorized_index_to_matrix_index(i)\n",
    "        \n",
    "        a = outer_index[0]\n",
    "        b = outer_index[1]\n",
    "        min_j = _matrix_index_to_vectorized_index(a, b)\n",
    "        for j in range(min_j, dim):\n",
    "            inner_index = _vectorized_index_to_matrix_index(j)\n",
    "            n = inner_index[0]\n",
    "            m = inner_index[1]\n",
    "            \n",
    "            deriv[i, j] = _derivative_sdcorr_from_internal_inner(n, m, a, b, chol)\n",
    "                \n",
    "    return deriv.T"
   ]
  },
  {
   "cell_type": "code",
   "execution_count": 154,
   "metadata": {},
   "outputs": [],
   "source": [
    "@njit\n",
    "def _derivative_sdcorr_from_internal_inner(n, m, a, b, chol):\n",
    "    ln_norm = np.sqrt(np.sum(chol[n] ** 2))\n",
    "    lm_norm = np.sqrt(np.sum(chol[m] ** 2))\n",
    "    lnlm_norm = ln_norm * lm_norm\n",
    "    \n",
    "    const = lnlm_norm ** 2\n",
    "    \n",
    "    part1 = 0\n",
    "    if b <= n and a == n:\n",
    "        part1 += lm_norm\n",
    "    if b <= m and a == m:\n",
    "        part1 += ln_norm\n",
    "    part1 *= chol[a, b]\n",
    "    \n",
    "    part2 = 0\n",
    "    if b <= m:\n",
    "        if a == n:\n",
    "            part2 += chol[m, b]\n",
    "        if a == m:\n",
    "            part2 += chol[n, b]\n",
    "            \n",
    "    factor = np.dot(chol[n], chol[m])\n",
    "            \n",
    "    deriv = (lnlm_norm * part2 - factor * part1) / const\n",
    "    return deriv"
   ]
  },
  {
   "cell_type": "code",
   "execution_count": null,
   "metadata": {},
   "outputs": [],
   "source": []
  },
  {
   "cell_type": "markdown",
   "metadata": {},
   "source": [
    "## Example / Testing"
   ]
  },
  {
   "cell_type": "code",
   "execution_count": 136,
   "metadata": {},
   "outputs": [],
   "source": [
    "J = jacfwd(sdcorr_from_internal_jax)"
   ]
  },
  {
   "cell_type": "code",
   "execution_count": 139,
   "metadata": {},
   "outputs": [
    {
     "ename": "AssertionError",
     "evalue": "\nArrays are not almost equal to 6 decimals\n\nMismatch: 25.2%\nMax absolute difference: 1.17721257\nMax relative difference: nan\n x: array([[ 1.      ,  0.      ,  0.      , ...,  0.      ,  0.      ,\n         0.      ],\n       [ 0.      ,  0.098566,  0.99513 , ...,  0.      ,  0.      ,...\n y: array([[0.866247, 0.      , 0.      , ..., 0.      , 0.      , 0.      ],\n       [0.994493, 0.031119, 0.      , ..., 0.      , 0.      , 0.      ],\n       [0.      , 0.062239, 0.628365, ..., 0.      , 0.      , 0.      ],...",
     "output_type": "error",
     "traceback": [
      "\u001b[0;31m---------------------------------------------------------------------------\u001b[0m",
      "\u001b[0;31mAssertionError\u001b[0m                            Traceback (most recent call last)",
      "\u001b[0;32m<ipython-input-139-d802d4d3b0e3>\u001b[0m in \u001b[0;36m<module>\u001b[0;34m\u001b[0m\n\u001b[1;32m      6\u001b[0m     \u001b[0mmy_deriv\u001b[0m \u001b[0;34m=\u001b[0m \u001b[0mderivative_sdcorr_from_internal\u001b[0m\u001b[0;34m(\u001b[0m\u001b[0minternal\u001b[0m\u001b[0;34m)\u001b[0m\u001b[0;34m\u001b[0m\u001b[0;34m\u001b[0m\u001b[0m\n\u001b[1;32m      7\u001b[0m \u001b[0;34m\u001b[0m\u001b[0m\n\u001b[0;32m----> 8\u001b[0;31m     \u001b[0massert_array_almost_equal\u001b[0m\u001b[0;34m(\u001b[0m\u001b[0mjax_deriv\u001b[0m\u001b[0;34m,\u001b[0m \u001b[0mmy_deriv\u001b[0m\u001b[0;34m)\u001b[0m\u001b[0;34m\u001b[0m\u001b[0;34m\u001b[0m\u001b[0m\n\u001b[0m",
      "    \u001b[0;31m[... skipping hidden 2 frame]\u001b[0m\n",
      "\u001b[0;31mAssertionError\u001b[0m: \nArrays are not almost equal to 6 decimals\n\nMismatch: 25.2%\nMax absolute difference: 1.17721257\nMax relative difference: nan\n x: array([[ 1.      ,  0.      ,  0.      , ...,  0.      ,  0.      ,\n         0.      ],\n       [ 0.      ,  0.098566,  0.99513 , ...,  0.      ,  0.      ,...\n y: array([[0.866247, 0.      , 0.      , ..., 0.      , 0.      , 0.      ],\n       [0.994493, 0.031119, 0.      , ..., 0.      , 0.      , 0.      ],\n       [0.      , 0.062239, 0.628365, ..., 0.      , 0.      , 0.      ],..."
     ]
    }
   ],
   "source": [
    "for dim in range(10, 11):\n",
    "    internal = get_random_internal(dim)\n",
    "\n",
    "    jax_deriv = J(internal)\n",
    "\n",
    "    my_deriv = derivative_sdcorr_from_internal(internal)\n",
    "\n",
    "    assert_array_almost_equal(jax_deriv, my_deriv)"
   ]
  },
  {
   "cell_type": "code",
   "execution_count": null,
   "metadata": {},
   "outputs": [],
   "source": []
  },
  {
   "cell_type": "code",
   "execution_count": null,
   "metadata": {},
   "outputs": [],
   "source": []
  },
  {
   "cell_type": "code",
   "execution_count": 182,
   "metadata": {},
   "outputs": [],
   "source": [
    "internal = np.array([1, 2, 4, 2, 0.5, 1])"
   ]
  },
  {
   "cell_type": "code",
   "execution_count": 167,
   "metadata": {},
   "outputs": [
    {
     "data": {
      "text/plain": [
       "DeviceArray([[ 1.  ,  0.  ,  0.  ,  0.  ,  0.  ,  0.  ],\n",
       "             [ 0.  ,  0.45,  0.89,  0.  ,  0.  ,  0.  ],\n",
       "             [ 0.  ,  0.  ,  0.  ,  0.87,  0.22,  0.44],\n",
       "             [ 0.  ,  0.18, -0.09,  0.  ,  0.  ,  0.  ],\n",
       "             [ 0.  ,  0.  ,  0.  ,  0.1 , -0.08, -0.17],\n",
       "             [ 0.  ,  0.14, -0.07, -0.03,  0.33, -0.11]], dtype=float32)"
      ]
     },
     "execution_count": 167,
     "metadata": {},
     "output_type": "execute_result"
    }
   ],
   "source": [
    "J(internal).round(2)"
   ]
  },
  {
   "cell_type": "code",
   "execution_count": 168,
   "metadata": {},
   "outputs": [
    {
     "data": {
      "text/plain": [
       "array([[ 0.  ,  0.  ,  0.  ,  0.  ,  0.  ,  0.  ],\n",
       "       [ 0.  ,  0.02,  0.  ,  0.  ,  0.  ,  0.  ],\n",
       "       [ 0.  , -0.69, -1.39,  0.  ,  0.  ,  0.  ],\n",
       "       [ 0.  ,  0.  ,  0.  , -0.33,  0.  ,  0.  ],\n",
       "       [ 0.  , -0.07, -0.47, -0.32,  0.26,  0.  ],\n",
       "       [ 0.  ,  0.  ,  0.  , -0.98, -0.25, -0.49]])"
      ]
     },
     "execution_count": 168,
     "metadata": {},
     "output_type": "execute_result"
    }
   ],
   "source": [
    "derivative_sdcorr_from_internal(internal).round(2)"
   ]
  },
  {
   "cell_type": "code",
   "execution_count": null,
   "metadata": {},
   "outputs": [],
   "source": []
  },
  {
   "cell_type": "markdown",
   "metadata": {},
   "source": [
    "## Derivative of ``probability_from_internal``"
   ]
  },
  {
   "cell_type": "code",
   "execution_count": 281,
   "metadata": {},
   "outputs": [],
   "source": [
    "@njit\n",
    "def derivative_probability_from_internal(internal_values):\n",
    "    dim = len(internal_values)\n",
    "    \n",
    "    sum_ = np.sum(internal_values)\n",
    "    \n",
    "    part1 = np.eye(dim) / sum_\n",
    "    \n",
    "    part2 = np.ones((dim, dim)) * (internal_values / (sum_ ** 2))\n",
    "    \n",
    "    deriv = part1 - part2\n",
    "    return deriv.T"
   ]
  },
  {
   "cell_type": "code",
   "execution_count": null,
   "metadata": {},
   "outputs": [],
   "source": []
  },
  {
   "cell_type": "markdown",
   "metadata": {},
   "source": [
    "## Example / Testing"
   ]
  },
  {
   "cell_type": "code",
   "execution_count": 180,
   "metadata": {},
   "outputs": [],
   "source": [
    "J = jacfwd(probability_from_internal_jax)"
   ]
  },
  {
   "cell_type": "code",
   "execution_count": null,
   "metadata": {},
   "outputs": [],
   "source": [
    "bad = []\n",
    "for dim in range(10, 100):\n",
    "    try:\n",
    "        internal = get_random_internal(dim)\n",
    "        jax_deriv = J(internal)\n",
    "        my_deriv = derivative_probability_from_internal(internal)\n",
    "        assert_array_almost_equal(jax_deriv, my_deriv)\n",
    "    except: AssertionError:\n",
    "        bad.append(dim)\n",
    "        \n",
    "print(bad)"
   ]
  },
  {
   "cell_type": "code",
   "execution_count": 265,
   "metadata": {},
   "outputs": [
    {
     "data": {
      "text/plain": [
       "[16, 17, 21, 34, 39, 70, 75, 90, 92]"
      ]
     },
     "execution_count": 265,
     "metadata": {},
     "output_type": "execute_result"
    }
   ],
   "source": []
  },
  {
   "cell_type": "code",
   "execution_count": null,
   "metadata": {},
   "outputs": [],
   "source": []
  },
  {
   "cell_type": "markdown",
   "metadata": {},
   "source": [
    "## Timeit"
   ]
  },
  {
   "cell_type": "code",
   "execution_count": 266,
   "metadata": {},
   "outputs": [],
   "source": [
    "internal = get_random_internal(100)"
   ]
  },
  {
   "cell_type": "code",
   "execution_count": 267,
   "metadata": {},
   "outputs": [
    {
     "name": "stdout",
     "output_type": "stream",
     "text": [
      "175 ms ± 59.9 ms per loop (mean ± std. dev. of 7 runs, 1 loop each)\n"
     ]
    }
   ],
   "source": [
    "%timeit J(internal)"
   ]
  },
  {
   "cell_type": "code",
   "execution_count": 275,
   "metadata": {},
   "outputs": [
    {
     "name": "stdout",
     "output_type": "stream",
     "text": [
      "566 ms ± 5.17 ms per loop (mean ± std. dev. of 7 runs, 1 loop each)\n"
     ]
    }
   ],
   "source": [
    "%timeit derivative_probability_from_internal(internal)"
   ]
  },
  {
   "cell_type": "code",
   "execution_count": null,
   "metadata": {},
   "outputs": [],
   "source": []
  },
  {
   "cell_type": "code",
   "execution_count": null,
   "metadata": {},
   "outputs": [],
   "source": []
  }
 ],
 "metadata": {
  "kernelspec": {
   "display_name": "Python 3",
   "language": "python",
   "name": "python3"
  },
  "language_info": {
   "codemirror_mode": {
    "name": "ipython",
    "version": 3
   },
   "file_extension": ".py",
   "mimetype": "text/x-python",
   "name": "python",
   "nbconvert_exporter": "python",
   "pygments_lexer": "ipython3",
   "version": "3.7.6"
  }
 },
 "nbformat": 4,
 "nbformat_minor": 2
}
